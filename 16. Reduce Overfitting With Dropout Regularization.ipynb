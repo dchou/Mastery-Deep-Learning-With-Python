{
 "cells": [
  {
   "cell_type": "markdown",
   "metadata": {},
   "source": [
    "# 16 Reduce Overfitting With Dropout Regularization"
   ]
  },
  {
   "cell_type": "markdown",
   "metadata": {},
   "source": [
    "## 16.2 Dropout Regularization in Keras"
   ]
  },
  {
   "cell_type": "code",
   "execution_count": 1,
   "metadata": {
    "collapsed": false
   },
   "outputs": [
    {
     "name": "stderr",
     "output_type": "stream",
     "text": [
      "Using TensorFlow backend.\n"
     ]
    }
   ],
   "source": [
    "# Baseline Model on the Sonar Dataset\n",
    "import numpy\n",
    "from pandas import read_csv\n",
    "from keras.models import Sequential\n",
    "from keras.layers import Dense\n",
    "from keras.layers import Dropout\n",
    "from keras.wrappers.scikit_learn import KerasClassifier\n",
    "from keras.constraints import maxnorm\n",
    "from keras.optimizers import SGD\n",
    "from sklearn.model_selection import cross_val_score\n",
    "from sklearn.preprocessing import LabelEncoder\n",
    "from sklearn.model_selection import StratifiedKFold\n",
    "from sklearn.preprocessing import StandardScaler\n",
    "from sklearn.pipeline import Pipeline\n",
    "# fix random seed for reproducibility\n",
    "seed = 7\n",
    "numpy.random.seed(seed)\n",
    "# load dataset\n",
    "dataframe = read_csv(\"sonar.csv\", header=None)\n",
    "dataset = dataframe.values\n",
    "# split into input (X) and output (Y) variables\n",
    "X = dataset[:,0:60].astype(float)\n",
    "Y = dataset[:,60]\n",
    "# encode class values as integers\n",
    "encoder = LabelEncoder()\n",
    "encoder.fit(Y)\n",
    "encoded_Y = encoder.transform(Y)\n",
    "\n",
    "# baseline\n",
    "def create_baseline():\n",
    "  # create model\n",
    "  model = Sequential()\n",
    "  model.add(Dense(60, input_dim=60, init='normal', activation='relu'))\n",
    "  model.add(Dense(30, init='normal', activation='relu'))\n",
    "  model.add(Dense(1, init='normal', activation='sigmoid'))\n",
    "  # Compile model\n",
    "  sgd = SGD(lr=0.01, momentum=0.8, decay=0.0, nesterov=False)\n",
    "  model.compile(loss='binary_crossentropy', optimizer=sgd, metrics=['accuracy'])\n",
    "  return model"
   ]
  },
  {
   "cell_type": "code",
   "execution_count": 3,
   "metadata": {
    "collapsed": false
   },
   "outputs": [
    {
     "name": "stderr",
     "output_type": "stream",
     "text": [
      "/Users/dchou/tensorflow/lib/python3.6/site-packages/ipykernel_launcher.py:33: UserWarning: Update your `Dense` call to the Keras 2 API: `Dense(60, input_dim=60, activation=\"relu\", kernel_initializer=\"normal\")`\n",
      "/Users/dchou/tensorflow/lib/python3.6/site-packages/ipykernel_launcher.py:34: UserWarning: Update your `Dense` call to the Keras 2 API: `Dense(30, activation=\"relu\", kernel_initializer=\"normal\")`\n",
      "/Users/dchou/tensorflow/lib/python3.6/site-packages/ipykernel_launcher.py:35: UserWarning: Update your `Dense` call to the Keras 2 API: `Dense(1, activation=\"sigmoid\", kernel_initializer=\"normal\")`\n",
      "/Users/dchou/tensorflow/lib/python3.6/site-packages/ipykernel_launcher.py:33: UserWarning: Update your `Dense` call to the Keras 2 API: `Dense(60, input_dim=60, activation=\"relu\", kernel_initializer=\"normal\")`\n",
      "/Users/dchou/tensorflow/lib/python3.6/site-packages/ipykernel_launcher.py:34: UserWarning: Update your `Dense` call to the Keras 2 API: `Dense(30, activation=\"relu\", kernel_initializer=\"normal\")`\n",
      "/Users/dchou/tensorflow/lib/python3.6/site-packages/ipykernel_launcher.py:35: UserWarning: Update your `Dense` call to the Keras 2 API: `Dense(1, activation=\"sigmoid\", kernel_initializer=\"normal\")`\n",
      "/Users/dchou/tensorflow/lib/python3.6/site-packages/ipykernel_launcher.py:33: UserWarning: Update your `Dense` call to the Keras 2 API: `Dense(60, input_dim=60, activation=\"relu\", kernel_initializer=\"normal\")`\n",
      "/Users/dchou/tensorflow/lib/python3.6/site-packages/ipykernel_launcher.py:34: UserWarning: Update your `Dense` call to the Keras 2 API: `Dense(30, activation=\"relu\", kernel_initializer=\"normal\")`\n",
      "/Users/dchou/tensorflow/lib/python3.6/site-packages/ipykernel_launcher.py:35: UserWarning: Update your `Dense` call to the Keras 2 API: `Dense(1, activation=\"sigmoid\", kernel_initializer=\"normal\")`\n",
      "/Users/dchou/tensorflow/lib/python3.6/site-packages/ipykernel_launcher.py:33: UserWarning: Update your `Dense` call to the Keras 2 API: `Dense(60, input_dim=60, activation=\"relu\", kernel_initializer=\"normal\")`\n",
      "/Users/dchou/tensorflow/lib/python3.6/site-packages/ipykernel_launcher.py:34: UserWarning: Update your `Dense` call to the Keras 2 API: `Dense(30, activation=\"relu\", kernel_initializer=\"normal\")`\n",
      "/Users/dchou/tensorflow/lib/python3.6/site-packages/ipykernel_launcher.py:35: UserWarning: Update your `Dense` call to the Keras 2 API: `Dense(1, activation=\"sigmoid\", kernel_initializer=\"normal\")`\n",
      "/Users/dchou/tensorflow/lib/python3.6/site-packages/ipykernel_launcher.py:33: UserWarning: Update your `Dense` call to the Keras 2 API: `Dense(60, input_dim=60, activation=\"relu\", kernel_initializer=\"normal\")`\n",
      "/Users/dchou/tensorflow/lib/python3.6/site-packages/ipykernel_launcher.py:34: UserWarning: Update your `Dense` call to the Keras 2 API: `Dense(30, activation=\"relu\", kernel_initializer=\"normal\")`\n",
      "/Users/dchou/tensorflow/lib/python3.6/site-packages/ipykernel_launcher.py:35: UserWarning: Update your `Dense` call to the Keras 2 API: `Dense(1, activation=\"sigmoid\", kernel_initializer=\"normal\")`\n",
      "/Users/dchou/tensorflow/lib/python3.6/site-packages/ipykernel_launcher.py:33: UserWarning: Update your `Dense` call to the Keras 2 API: `Dense(60, input_dim=60, activation=\"relu\", kernel_initializer=\"normal\")`\n",
      "/Users/dchou/tensorflow/lib/python3.6/site-packages/ipykernel_launcher.py:34: UserWarning: Update your `Dense` call to the Keras 2 API: `Dense(30, activation=\"relu\", kernel_initializer=\"normal\")`\n",
      "/Users/dchou/tensorflow/lib/python3.6/site-packages/ipykernel_launcher.py:35: UserWarning: Update your `Dense` call to the Keras 2 API: `Dense(1, activation=\"sigmoid\", kernel_initializer=\"normal\")`\n",
      "/Users/dchou/tensorflow/lib/python3.6/site-packages/ipykernel_launcher.py:33: UserWarning: Update your `Dense` call to the Keras 2 API: `Dense(60, input_dim=60, activation=\"relu\", kernel_initializer=\"normal\")`\n",
      "/Users/dchou/tensorflow/lib/python3.6/site-packages/ipykernel_launcher.py:34: UserWarning: Update your `Dense` call to the Keras 2 API: `Dense(30, activation=\"relu\", kernel_initializer=\"normal\")`\n",
      "/Users/dchou/tensorflow/lib/python3.6/site-packages/ipykernel_launcher.py:35: UserWarning: Update your `Dense` call to the Keras 2 API: `Dense(1, activation=\"sigmoid\", kernel_initializer=\"normal\")`\n",
      "/Users/dchou/tensorflow/lib/python3.6/site-packages/ipykernel_launcher.py:33: UserWarning: Update your `Dense` call to the Keras 2 API: `Dense(60, input_dim=60, activation=\"relu\", kernel_initializer=\"normal\")`\n",
      "/Users/dchou/tensorflow/lib/python3.6/site-packages/ipykernel_launcher.py:34: UserWarning: Update your `Dense` call to the Keras 2 API: `Dense(30, activation=\"relu\", kernel_initializer=\"normal\")`\n",
      "/Users/dchou/tensorflow/lib/python3.6/site-packages/ipykernel_launcher.py:35: UserWarning: Update your `Dense` call to the Keras 2 API: `Dense(1, activation=\"sigmoid\", kernel_initializer=\"normal\")`\n",
      "/Users/dchou/tensorflow/lib/python3.6/site-packages/ipykernel_launcher.py:33: UserWarning: Update your `Dense` call to the Keras 2 API: `Dense(60, input_dim=60, activation=\"relu\", kernel_initializer=\"normal\")`\n",
      "/Users/dchou/tensorflow/lib/python3.6/site-packages/ipykernel_launcher.py:34: UserWarning: Update your `Dense` call to the Keras 2 API: `Dense(30, activation=\"relu\", kernel_initializer=\"normal\")`\n",
      "/Users/dchou/tensorflow/lib/python3.6/site-packages/ipykernel_launcher.py:35: UserWarning: Update your `Dense` call to the Keras 2 API: `Dense(1, activation=\"sigmoid\", kernel_initializer=\"normal\")`\n",
      "/Users/dchou/tensorflow/lib/python3.6/site-packages/ipykernel_launcher.py:33: UserWarning: Update your `Dense` call to the Keras 2 API: `Dense(60, input_dim=60, activation=\"relu\", kernel_initializer=\"normal\")`\n",
      "/Users/dchou/tensorflow/lib/python3.6/site-packages/ipykernel_launcher.py:34: UserWarning: Update your `Dense` call to the Keras 2 API: `Dense(30, activation=\"relu\", kernel_initializer=\"normal\")`\n",
      "/Users/dchou/tensorflow/lib/python3.6/site-packages/ipykernel_launcher.py:35: UserWarning: Update your `Dense` call to the Keras 2 API: `Dense(1, activation=\"sigmoid\", kernel_initializer=\"normal\")`\n"
     ]
    },
    {
     "name": "stdout",
     "output_type": "stream",
     "text": [
      "Baseline: 65.03% (8.60%)\n"
     ]
    }
   ],
   "source": [
    "numpy.random.seed(seed)\n",
    "estimators = []\n",
    "estimators.append(('standardize', StandardScaler()))\n",
    "estimators.append(('mlp', KerasClassifier(build_fn=create_baseline, nb_epoch=300,\n",
    "    batch_size=16, verbose=0)))\n",
    "pipeline = Pipeline(estimators)\n",
    "kfold = StratifiedKFold(n_splits=10, shuffle=True, random_state=seed)\n",
    "results = cross_val_score(pipeline, X, encoded_Y, cv=kfold)\n",
    "print(\"Baseline: %.2f%% (%.2f%%)\" % (results.mean()*100, results.std()*100))\n",
    "\n",
    "# Baseline: 65.03% (8.60%)"
   ]
  },
  {
   "cell_type": "markdown",
   "metadata": {},
   "source": [
    "## 16.3 Using Dropout on the Visible Layer"
   ]
  },
  {
   "cell_type": "code",
   "execution_count": 8,
   "metadata": {
    "collapsed": false
   },
   "outputs": [
    {
     "name": "stderr",
     "output_type": "stream",
     "text": [
      "/Users/dchou/tensorflow/lib/python3.6/site-packages/ipykernel_launcher.py:7: UserWarning: Update your `Dense` call to the Keras 2 API: `Dense(60, activation=\"relu\", kernel_constraint=<keras.con..., kernel_initializer=\"normal\")`\n",
      "  import sys\n",
      "/Users/dchou/tensorflow/lib/python3.6/site-packages/ipykernel_launcher.py:9: UserWarning: Update your `Dense` call to the Keras 2 API: `Dense(30, activation=\"relu\", kernel_constraint=<keras.con..., kernel_initializer=\"normal\")`\n",
      "  if __name__ == '__main__':\n",
      "/Users/dchou/tensorflow/lib/python3.6/site-packages/ipykernel_launcher.py:10: UserWarning: Update your `Dense` call to the Keras 2 API: `Dense(1, activation=\"sigmoid\", kernel_initializer=\"normal\")`\n",
      "  # Remove the CWD from sys.path while we load stuff.\n",
      "/Users/dchou/tensorflow/lib/python3.6/site-packages/ipykernel_launcher.py:7: UserWarning: Update your `Dense` call to the Keras 2 API: `Dense(60, activation=\"relu\", kernel_constraint=<keras.con..., kernel_initializer=\"normal\")`\n",
      "  import sys\n",
      "/Users/dchou/tensorflow/lib/python3.6/site-packages/ipykernel_launcher.py:9: UserWarning: Update your `Dense` call to the Keras 2 API: `Dense(30, activation=\"relu\", kernel_constraint=<keras.con..., kernel_initializer=\"normal\")`\n",
      "  if __name__ == '__main__':\n",
      "/Users/dchou/tensorflow/lib/python3.6/site-packages/ipykernel_launcher.py:10: UserWarning: Update your `Dense` call to the Keras 2 API: `Dense(1, activation=\"sigmoid\", kernel_initializer=\"normal\")`\n",
      "  # Remove the CWD from sys.path while we load stuff.\n",
      "/Users/dchou/tensorflow/lib/python3.6/site-packages/ipykernel_launcher.py:7: UserWarning: Update your `Dense` call to the Keras 2 API: `Dense(60, activation=\"relu\", kernel_constraint=<keras.con..., kernel_initializer=\"normal\")`\n",
      "  import sys\n",
      "/Users/dchou/tensorflow/lib/python3.6/site-packages/ipykernel_launcher.py:9: UserWarning: Update your `Dense` call to the Keras 2 API: `Dense(30, activation=\"relu\", kernel_constraint=<keras.con..., kernel_initializer=\"normal\")`\n",
      "  if __name__ == '__main__':\n",
      "/Users/dchou/tensorflow/lib/python3.6/site-packages/ipykernel_launcher.py:10: UserWarning: Update your `Dense` call to the Keras 2 API: `Dense(1, activation=\"sigmoid\", kernel_initializer=\"normal\")`\n",
      "  # Remove the CWD from sys.path while we load stuff.\n",
      "/Users/dchou/tensorflow/lib/python3.6/site-packages/ipykernel_launcher.py:7: UserWarning: Update your `Dense` call to the Keras 2 API: `Dense(60, activation=\"relu\", kernel_constraint=<keras.con..., kernel_initializer=\"normal\")`\n",
      "  import sys\n",
      "/Users/dchou/tensorflow/lib/python3.6/site-packages/ipykernel_launcher.py:9: UserWarning: Update your `Dense` call to the Keras 2 API: `Dense(30, activation=\"relu\", kernel_constraint=<keras.con..., kernel_initializer=\"normal\")`\n",
      "  if __name__ == '__main__':\n",
      "/Users/dchou/tensorflow/lib/python3.6/site-packages/ipykernel_launcher.py:10: UserWarning: Update your `Dense` call to the Keras 2 API: `Dense(1, activation=\"sigmoid\", kernel_initializer=\"normal\")`\n",
      "  # Remove the CWD from sys.path while we load stuff.\n",
      "/Users/dchou/tensorflow/lib/python3.6/site-packages/ipykernel_launcher.py:7: UserWarning: Update your `Dense` call to the Keras 2 API: `Dense(60, activation=\"relu\", kernel_constraint=<keras.con..., kernel_initializer=\"normal\")`\n",
      "  import sys\n",
      "/Users/dchou/tensorflow/lib/python3.6/site-packages/ipykernel_launcher.py:9: UserWarning: Update your `Dense` call to the Keras 2 API: `Dense(30, activation=\"relu\", kernel_constraint=<keras.con..., kernel_initializer=\"normal\")`\n",
      "  if __name__ == '__main__':\n",
      "/Users/dchou/tensorflow/lib/python3.6/site-packages/ipykernel_launcher.py:10: UserWarning: Update your `Dense` call to the Keras 2 API: `Dense(1, activation=\"sigmoid\", kernel_initializer=\"normal\")`\n",
      "  # Remove the CWD from sys.path while we load stuff.\n",
      "/Users/dchou/tensorflow/lib/python3.6/site-packages/ipykernel_launcher.py:7: UserWarning: Update your `Dense` call to the Keras 2 API: `Dense(60, activation=\"relu\", kernel_constraint=<keras.con..., kernel_initializer=\"normal\")`\n",
      "  import sys\n",
      "/Users/dchou/tensorflow/lib/python3.6/site-packages/ipykernel_launcher.py:9: UserWarning: Update your `Dense` call to the Keras 2 API: `Dense(30, activation=\"relu\", kernel_constraint=<keras.con..., kernel_initializer=\"normal\")`\n",
      "  if __name__ == '__main__':\n",
      "/Users/dchou/tensorflow/lib/python3.6/site-packages/ipykernel_launcher.py:10: UserWarning: Update your `Dense` call to the Keras 2 API: `Dense(1, activation=\"sigmoid\", kernel_initializer=\"normal\")`\n",
      "  # Remove the CWD from sys.path while we load stuff.\n",
      "/Users/dchou/tensorflow/lib/python3.6/site-packages/ipykernel_launcher.py:7: UserWarning: Update your `Dense` call to the Keras 2 API: `Dense(60, activation=\"relu\", kernel_constraint=<keras.con..., kernel_initializer=\"normal\")`\n",
      "  import sys\n",
      "/Users/dchou/tensorflow/lib/python3.6/site-packages/ipykernel_launcher.py:9: UserWarning: Update your `Dense` call to the Keras 2 API: `Dense(30, activation=\"relu\", kernel_constraint=<keras.con..., kernel_initializer=\"normal\")`\n",
      "  if __name__ == '__main__':\n",
      "/Users/dchou/tensorflow/lib/python3.6/site-packages/ipykernel_launcher.py:10: UserWarning: Update your `Dense` call to the Keras 2 API: `Dense(1, activation=\"sigmoid\", kernel_initializer=\"normal\")`\n",
      "  # Remove the CWD from sys.path while we load stuff.\n",
      "/Users/dchou/tensorflow/lib/python3.6/site-packages/ipykernel_launcher.py:7: UserWarning: Update your `Dense` call to the Keras 2 API: `Dense(60, activation=\"relu\", kernel_constraint=<keras.con..., kernel_initializer=\"normal\")`\n",
      "  import sys\n",
      "/Users/dchou/tensorflow/lib/python3.6/site-packages/ipykernel_launcher.py:9: UserWarning: Update your `Dense` call to the Keras 2 API: `Dense(30, activation=\"relu\", kernel_constraint=<keras.con..., kernel_initializer=\"normal\")`\n",
      "  if __name__ == '__main__':\n",
      "/Users/dchou/tensorflow/lib/python3.6/site-packages/ipykernel_launcher.py:10: UserWarning: Update your `Dense` call to the Keras 2 API: `Dense(1, activation=\"sigmoid\", kernel_initializer=\"normal\")`\n",
      "  # Remove the CWD from sys.path while we load stuff.\n",
      "/Users/dchou/tensorflow/lib/python3.6/site-packages/ipykernel_launcher.py:7: UserWarning: Update your `Dense` call to the Keras 2 API: `Dense(60, activation=\"relu\", kernel_constraint=<keras.con..., kernel_initializer=\"normal\")`\n",
      "  import sys\n",
      "/Users/dchou/tensorflow/lib/python3.6/site-packages/ipykernel_launcher.py:9: UserWarning: Update your `Dense` call to the Keras 2 API: `Dense(30, activation=\"relu\", kernel_constraint=<keras.con..., kernel_initializer=\"normal\")`\n",
      "  if __name__ == '__main__':\n",
      "/Users/dchou/tensorflow/lib/python3.6/site-packages/ipykernel_launcher.py:10: UserWarning: Update your `Dense` call to the Keras 2 API: `Dense(1, activation=\"sigmoid\", kernel_initializer=\"normal\")`\n",
      "  # Remove the CWD from sys.path while we load stuff.\n",
      "/Users/dchou/tensorflow/lib/python3.6/site-packages/ipykernel_launcher.py:7: UserWarning: Update your `Dense` call to the Keras 2 API: `Dense(60, activation=\"relu\", kernel_constraint=<keras.con..., kernel_initializer=\"normal\")`\n",
      "  import sys\n",
      "/Users/dchou/tensorflow/lib/python3.6/site-packages/ipykernel_launcher.py:9: UserWarning: Update your `Dense` call to the Keras 2 API: `Dense(30, activation=\"relu\", kernel_constraint=<keras.con..., kernel_initializer=\"normal\")`\n",
      "  if __name__ == '__main__':\n",
      "/Users/dchou/tensorflow/lib/python3.6/site-packages/ipykernel_launcher.py:10: UserWarning: Update your `Dense` call to the Keras 2 API: `Dense(1, activation=\"sigmoid\", kernel_initializer=\"normal\")`\n",
      "  # Remove the CWD from sys.path while we load stuff.\n"
     ]
    },
    {
     "name": "stdout",
     "output_type": "stream",
     "text": [
      "Visible: 86.06% (6.60%)\n"
     ]
    }
   ],
   "source": [
    "# dropout in the input layer with weight constraint\n",
    "def create_model():\n",
    "  # create model\n",
    "  model = Sequential()\n",
    "  model.add(Dropout(0.2, input_shape=(60,)))\n",
    "  #V1 model.add(Dense(60, init='normal', activation='relu', W_constraint=maxnorm(3)))\n",
    "  model.add(Dense(60, init='normal', activation='relu', kernel_constraint=maxnorm(3))) #V2\n",
    "  #V1 model.add(Dense(30, init='normal', activation='relu', W_constraint=maxnorm(3))\n",
    "  model.add(Dense(30, init='normal', activation='relu', kernel_constraint=maxnorm(3))) #V2\n",
    "  model.add(Dense(1, init='normal', activation='sigmoid'))\n",
    "  # Compile model\n",
    "  # OLD sgd = SGD(lr=0.01, momentum=0.8, decay=0.0, nesterov=False)\n",
    "  sgd = SGD(lr=0.1, momentum=0.9, decay=0.0, nesterov=False) # NEW\n",
    "  model.compile(loss='binary_crossentropy', optimizer=sgd, metrics=['accuracy'])    \n",
    "  return model\n",
    "\n",
    "numpy.random.seed(seed)\n",
    "estimators = []\n",
    "estimators.append(('standardize', StandardScaler()))\n",
    "estimators.append(('mlp', KerasClassifier(build_fn=create_model, nb_epoch=300,\n",
    "    batch_size=16, verbose=0)))\n",
    "pipeline = Pipeline(estimators)\n",
    "kfold = StratifiedKFold(n_splits=10, shuffle=True, random_state=seed)\n",
    "results = cross_val_score(pipeline, X, encoded_Y, cv=kfold)\n",
    "print(\"Visible: %.2f%% (%.2f%%)\" % (results.mean()*100, results.std()*100))\n",
    "\n",
    "# Visible: 86.06% (6.60%)"
   ]
  },
  {
   "cell_type": "markdown",
   "metadata": {},
   "source": [
    "## 16.4 Using Dropout on Hidden Layers"
   ]
  },
  {
   "cell_type": "code",
   "execution_count": 10,
   "metadata": {
    "collapsed": false
   },
   "outputs": [
    {
     "name": "stderr",
     "output_type": "stream",
     "text": [
      "/Users/dchou/tensorflow/lib/python3.6/site-packages/ipykernel_launcher.py:6: UserWarning: Update your `Dense` call to the Keras 2 API: `Dense(60, input_dim=60, activation=\"relu\", kernel_initializer=\"normal\", kernel_constraint=<keras.con...)`\n",
      "  \n",
      "/Users/dchou/tensorflow/lib/python3.6/site-packages/ipykernel_launcher.py:8: UserWarning: Update your `Dense` call to the Keras 2 API: `Dense(30, activation=\"relu\", kernel_initializer=\"normal\", kernel_constraint=<keras.con...)`\n",
      "  \n",
      "/Users/dchou/tensorflow/lib/python3.6/site-packages/ipykernel_launcher.py:10: UserWarning: Update your `Dense` call to the Keras 2 API: `Dense(1, activation=\"sigmoid\", kernel_initializer=\"normal\")`\n",
      "  # Remove the CWD from sys.path while we load stuff.\n",
      "/Users/dchou/tensorflow/lib/python3.6/site-packages/ipykernel_launcher.py:6: UserWarning: Update your `Dense` call to the Keras 2 API: `Dense(60, input_dim=60, activation=\"relu\", kernel_initializer=\"normal\", kernel_constraint=<keras.con...)`\n",
      "  \n",
      "/Users/dchou/tensorflow/lib/python3.6/site-packages/ipykernel_launcher.py:8: UserWarning: Update your `Dense` call to the Keras 2 API: `Dense(30, activation=\"relu\", kernel_initializer=\"normal\", kernel_constraint=<keras.con...)`\n",
      "  \n",
      "/Users/dchou/tensorflow/lib/python3.6/site-packages/ipykernel_launcher.py:10: UserWarning: Update your `Dense` call to the Keras 2 API: `Dense(1, activation=\"sigmoid\", kernel_initializer=\"normal\")`\n",
      "  # Remove the CWD from sys.path while we load stuff.\n",
      "/Users/dchou/tensorflow/lib/python3.6/site-packages/ipykernel_launcher.py:6: UserWarning: Update your `Dense` call to the Keras 2 API: `Dense(60, input_dim=60, activation=\"relu\", kernel_initializer=\"normal\", kernel_constraint=<keras.con...)`\n",
      "  \n",
      "/Users/dchou/tensorflow/lib/python3.6/site-packages/ipykernel_launcher.py:8: UserWarning: Update your `Dense` call to the Keras 2 API: `Dense(30, activation=\"relu\", kernel_initializer=\"normal\", kernel_constraint=<keras.con...)`\n",
      "  \n",
      "/Users/dchou/tensorflow/lib/python3.6/site-packages/ipykernel_launcher.py:10: UserWarning: Update your `Dense` call to the Keras 2 API: `Dense(1, activation=\"sigmoid\", kernel_initializer=\"normal\")`\n",
      "  # Remove the CWD from sys.path while we load stuff.\n",
      "/Users/dchou/tensorflow/lib/python3.6/site-packages/ipykernel_launcher.py:6: UserWarning: Update your `Dense` call to the Keras 2 API: `Dense(60, input_dim=60, activation=\"relu\", kernel_initializer=\"normal\", kernel_constraint=<keras.con...)`\n",
      "  \n",
      "/Users/dchou/tensorflow/lib/python3.6/site-packages/ipykernel_launcher.py:8: UserWarning: Update your `Dense` call to the Keras 2 API: `Dense(30, activation=\"relu\", kernel_initializer=\"normal\", kernel_constraint=<keras.con...)`\n",
      "  \n",
      "/Users/dchou/tensorflow/lib/python3.6/site-packages/ipykernel_launcher.py:10: UserWarning: Update your `Dense` call to the Keras 2 API: `Dense(1, activation=\"sigmoid\", kernel_initializer=\"normal\")`\n",
      "  # Remove the CWD from sys.path while we load stuff.\n",
      "/Users/dchou/tensorflow/lib/python3.6/site-packages/ipykernel_launcher.py:6: UserWarning: Update your `Dense` call to the Keras 2 API: `Dense(60, input_dim=60, activation=\"relu\", kernel_initializer=\"normal\", kernel_constraint=<keras.con...)`\n",
      "  \n",
      "/Users/dchou/tensorflow/lib/python3.6/site-packages/ipykernel_launcher.py:8: UserWarning: Update your `Dense` call to the Keras 2 API: `Dense(30, activation=\"relu\", kernel_initializer=\"normal\", kernel_constraint=<keras.con...)`\n",
      "  \n",
      "/Users/dchou/tensorflow/lib/python3.6/site-packages/ipykernel_launcher.py:10: UserWarning: Update your `Dense` call to the Keras 2 API: `Dense(1, activation=\"sigmoid\", kernel_initializer=\"normal\")`\n",
      "  # Remove the CWD from sys.path while we load stuff.\n",
      "/Users/dchou/tensorflow/lib/python3.6/site-packages/ipykernel_launcher.py:6: UserWarning: Update your `Dense` call to the Keras 2 API: `Dense(60, input_dim=60, activation=\"relu\", kernel_initializer=\"normal\", kernel_constraint=<keras.con...)`\n",
      "  \n",
      "/Users/dchou/tensorflow/lib/python3.6/site-packages/ipykernel_launcher.py:8: UserWarning: Update your `Dense` call to the Keras 2 API: `Dense(30, activation=\"relu\", kernel_initializer=\"normal\", kernel_constraint=<keras.con...)`\n",
      "  \n",
      "/Users/dchou/tensorflow/lib/python3.6/site-packages/ipykernel_launcher.py:10: UserWarning: Update your `Dense` call to the Keras 2 API: `Dense(1, activation=\"sigmoid\", kernel_initializer=\"normal\")`\n",
      "  # Remove the CWD from sys.path while we load stuff.\n",
      "/Users/dchou/tensorflow/lib/python3.6/site-packages/ipykernel_launcher.py:6: UserWarning: Update your `Dense` call to the Keras 2 API: `Dense(60, input_dim=60, activation=\"relu\", kernel_initializer=\"normal\", kernel_constraint=<keras.con...)`\n",
      "  \n",
      "/Users/dchou/tensorflow/lib/python3.6/site-packages/ipykernel_launcher.py:8: UserWarning: Update your `Dense` call to the Keras 2 API: `Dense(30, activation=\"relu\", kernel_initializer=\"normal\", kernel_constraint=<keras.con...)`\n",
      "  \n",
      "/Users/dchou/tensorflow/lib/python3.6/site-packages/ipykernel_launcher.py:10: UserWarning: Update your `Dense` call to the Keras 2 API: `Dense(1, activation=\"sigmoid\", kernel_initializer=\"normal\")`\n",
      "  # Remove the CWD from sys.path while we load stuff.\n",
      "/Users/dchou/tensorflow/lib/python3.6/site-packages/ipykernel_launcher.py:6: UserWarning: Update your `Dense` call to the Keras 2 API: `Dense(60, input_dim=60, activation=\"relu\", kernel_initializer=\"normal\", kernel_constraint=<keras.con...)`\n",
      "  \n",
      "/Users/dchou/tensorflow/lib/python3.6/site-packages/ipykernel_launcher.py:8: UserWarning: Update your `Dense` call to the Keras 2 API: `Dense(30, activation=\"relu\", kernel_initializer=\"normal\", kernel_constraint=<keras.con...)`\n",
      "  \n",
      "/Users/dchou/tensorflow/lib/python3.6/site-packages/ipykernel_launcher.py:10: UserWarning: Update your `Dense` call to the Keras 2 API: `Dense(1, activation=\"sigmoid\", kernel_initializer=\"normal\")`\n",
      "  # Remove the CWD from sys.path while we load stuff.\n",
      "/Users/dchou/tensorflow/lib/python3.6/site-packages/ipykernel_launcher.py:6: UserWarning: Update your `Dense` call to the Keras 2 API: `Dense(60, input_dim=60, activation=\"relu\", kernel_initializer=\"normal\", kernel_constraint=<keras.con...)`\n",
      "  \n",
      "/Users/dchou/tensorflow/lib/python3.6/site-packages/ipykernel_launcher.py:8: UserWarning: Update your `Dense` call to the Keras 2 API: `Dense(30, activation=\"relu\", kernel_initializer=\"normal\", kernel_constraint=<keras.con...)`\n",
      "  \n",
      "/Users/dchou/tensorflow/lib/python3.6/site-packages/ipykernel_launcher.py:10: UserWarning: Update your `Dense` call to the Keras 2 API: `Dense(1, activation=\"sigmoid\", kernel_initializer=\"normal\")`\n",
      "  # Remove the CWD from sys.path while we load stuff.\n",
      "/Users/dchou/tensorflow/lib/python3.6/site-packages/ipykernel_launcher.py:6: UserWarning: Update your `Dense` call to the Keras 2 API: `Dense(60, input_dim=60, activation=\"relu\", kernel_initializer=\"normal\", kernel_constraint=<keras.con...)`\n",
      "  \n",
      "/Users/dchou/tensorflow/lib/python3.6/site-packages/ipykernel_launcher.py:8: UserWarning: Update your `Dense` call to the Keras 2 API: `Dense(30, activation=\"relu\", kernel_initializer=\"normal\", kernel_constraint=<keras.con...)`\n",
      "  \n",
      "/Users/dchou/tensorflow/lib/python3.6/site-packages/ipykernel_launcher.py:10: UserWarning: Update your `Dense` call to the Keras 2 API: `Dense(1, activation=\"sigmoid\", kernel_initializer=\"normal\")`\n",
      "  # Remove the CWD from sys.path while we load stuff.\n"
     ]
    },
    {
     "name": "stdout",
     "output_type": "stream",
     "text": [
      "Hidden: 83.11% (6.66%)\n"
     ]
    }
   ],
   "source": [
    "# dropout in hidden layers with weight constraint\n",
    "def create_model():\n",
    "  # create model\n",
    "  model = Sequential()\n",
    "  model.add(Dense(60, input_dim=60, init='normal', activation='relu',\n",
    "      W_constraint=maxnorm(3)))\n",
    "  model.add(Dropout(0.2))\n",
    "  model.add(Dense(30, init='normal', activation='relu', W_constraint=maxnorm(3)))\n",
    "  model.add(Dropout(0.2))\n",
    "  model.add(Dense(1, init='normal', activation='sigmoid'))\n",
    "  # Compile model\n",
    "  # OLD sgd = SGD(lr=0.01, momentum=0.8, decay=0.0, nesterov=False)\n",
    "  sgd = SGD(lr=0.1, momentum=0.9, decay=0.0, nesterov=False) # NEW\n",
    "  model.compile(loss='binary_crossentropy', optimizer=sgd, metrics=['accuracy'])    \n",
    "  return model\n",
    "\n",
    "numpy.random.seed(seed)\n",
    "estimators = []\n",
    "estimators.append(('standardize', StandardScaler()))\n",
    "estimators.append(('mlp', KerasClassifier(build_fn=create_model, nb_epoch=300,\n",
    "    batch_size=16, verbose=0)))\n",
    "pipeline = Pipeline(estimators)\n",
    "kfold = StratifiedKFold(n_splits=10, shuffle=True, random_state=seed)\n",
    "results = cross_val_score(pipeline, X, encoded_Y, cv=kfold)\n",
    "print(\"Hidden: %.2f%% (%.2f%%)\" % (results.mean()*100, results.std()*100))\n",
    "\n",
    "# Hidden: 85.61% (4.65%)\n",
    "# Hidden: 83.11% (6.66%)"
   ]
  },
  {
   "cell_type": "code",
   "execution_count": null,
   "metadata": {
    "collapsed": true
   },
   "outputs": [],
   "source": []
  }
 ],
 "metadata": {
  "kernelspec": {
   "display_name": "tensorflow",
   "language": "python",
   "name": "tensorflow"
  },
  "language_info": {
   "codemirror_mode": {
    "name": "ipython",
    "version": 3
   },
   "file_extension": ".py",
   "mimetype": "text/x-python",
   "name": "python",
   "nbconvert_exporter": "python",
   "pygments_lexer": "ipython3",
   "version": "3.6.0"
  }
 },
 "nbformat": 4,
 "nbformat_minor": 2
}
