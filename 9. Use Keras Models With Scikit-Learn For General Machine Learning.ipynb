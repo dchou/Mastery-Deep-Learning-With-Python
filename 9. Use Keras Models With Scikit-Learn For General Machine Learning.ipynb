{
 "cells": [
  {
   "cell_type": "markdown",
   "metadata": {},
   "source": [
    "# 9 Use Keras Models With Scikit-Learn For General Machine Learning"
   ]
  },
  {
   "cell_type": "markdown",
   "metadata": {},
   "source": [
    "## 9.2 Evaluate Models with Cross-Validation"
   ]
  },
  {
   "cell_type": "code",
   "execution_count": 1,
   "metadata": {
    "collapsed": false
   },
   "outputs": [
    {
     "name": "stderr",
     "output_type": "stream",
     "text": [
      "Using TensorFlow backend.\n"
     ]
    }
   ],
   "source": [
    "# MLP for Pima Indians Dataset with 10-fold cross validation via sklearn\n",
    "from keras.models import Sequential\n",
    "from keras.layers import Dense\n",
    "from keras.wrappers.scikit_learn import KerasClassifier\n",
    "from sklearn.model_selection import StratifiedKFold\n",
    "from sklearn.model_selection import cross_val_score\n",
    "import numpy"
   ]
  },
  {
   "cell_type": "code",
   "execution_count": 7,
   "metadata": {
    "collapsed": false
   },
   "outputs": [
    {
     "name": "stderr",
     "output_type": "stream",
     "text": [
      "/Users/dchou/tensorflow/lib/python3.6/site-packages/ipykernel_launcher.py:5: UserWarning: Update your `Dense` call to the Keras 2 API: `Dense(12, input_dim=8, activation=\"relu\", kernel_initializer=\"uniform\")`\n",
      "  \"\"\"\n",
      "/Users/dchou/tensorflow/lib/python3.6/site-packages/ipykernel_launcher.py:6: UserWarning: Update your `Dense` call to the Keras 2 API: `Dense(8, activation=\"relu\", kernel_initializer=\"uniform\")`\n",
      "  \n",
      "/Users/dchou/tensorflow/lib/python3.6/site-packages/ipykernel_launcher.py:7: UserWarning: Update your `Dense` call to the Keras 2 API: `Dense(1, activation=\"sigmoid\", kernel_initializer=\"uniform\")`\n",
      "  import sys\n"
     ]
    },
    {
     "name": "stdout",
     "output_type": "stream",
     "text": [
      "0.656288452617\n"
     ]
    }
   ],
   "source": [
    "# Function to create model, required for KerasClassifier\n",
    "def create_model():\n",
    "  # create model\n",
    "  model = Sequential()\n",
    "  model.add(Dense(12, input_dim=8, init='uniform', activation='relu'))\n",
    "  model.add(Dense(8, init='uniform', activation='relu'))\n",
    "  model.add(Dense(1, init='uniform', activation='sigmoid'))\n",
    "  # Compile model\n",
    "  model.compile(loss='binary_crossentropy', optimizer='adam', metrics=['accuracy'])\n",
    "  return model\n",
    "\n",
    "# fix random seed for reproducibility\n",
    "seed = 7\n",
    "numpy.random.seed(seed)\n",
    "# load pima indians dataset\n",
    "dataset = numpy.loadtxt(\"pima-indians-diabetes.csv\", delimiter=\",\")\n",
    "# split into input (X) and output (Y) variables\n",
    "X = dataset[:,0:8]\n",
    "Y = dataset[:,8]\n",
    "# create model\n",
    "model = KerasClassifier(build_fn=create_model, nb_epoch=150, batch_size=10, verbose=0)\n",
    "# evaluate using 10-fold cross validation\n",
    "kfold = StratifiedKFold(n_splits=10, shuffle=True, random_state=seed)\n",
    "results = cross_val_score(model, X, Y, cv=kfold)\n",
    "print(results.mean())\n",
    "# 0.656271365452\n",
    "# 0.652392348566\n",
    "# 0.658885856074\n",
    "# 0.660184557682\n",
    "# 0.656288452617"
   ]
  },
  {
   "cell_type": "markdown",
   "metadata": {},
   "source": [
    "## 9.3 Grid Search Deep Learning Model Parameters"
   ]
  },
  {
   "cell_type": "code",
   "execution_count": 8,
   "metadata": {
    "collapsed": true
   },
   "outputs": [],
   "source": [
    "# MLP for Pima Indians Dataset with grid search via sklearn\n",
    "from keras.models import Sequential\n",
    "from keras.layers import Dense\n",
    "from keras.wrappers.scikit_learn import KerasClassifier\n",
    "from sklearn.model_selection import GridSearchCV            # <---\n",
    "import numpy"
   ]
  },
  {
   "cell_type": "code",
   "execution_count": 13,
   "metadata": {
    "collapsed": false
   },
   "outputs": [
    {
     "name": "stderr",
     "output_type": "stream",
     "text": [
      "/Users/dchou/tensorflow/lib/python3.6/site-packages/ipykernel_launcher.py:5: UserWarning: Update your `Dense` call to the Keras 2 API: `Dense(12, input_dim=8, activation=\"relu\", kernel_initializer=\"uniform\")`\n",
      "  \"\"\"\n",
      "/Users/dchou/tensorflow/lib/python3.6/site-packages/ipykernel_launcher.py:6: UserWarning: Update your `Dense` call to the Keras 2 API: `Dense(8, activation=\"relu\", kernel_initializer=\"uniform\")`\n",
      "  \n",
      "/Users/dchou/tensorflow/lib/python3.6/site-packages/ipykernel_launcher.py:7: UserWarning: Update your `Dense` call to the Keras 2 API: `Dense(1, activation=\"sigmoid\", kernel_initializer=\"uniform\")`\n",
      "  import sys\n"
     ]
    },
    {
     "name": "stdout",
     "output_type": "stream",
     "text": [
      "Best: 0.687500 using {'batch_size': 5, 'init': 'glorot_uniform', 'nb_epoch': 100, 'optimizer': 'adam'}\n",
      "0.662760 (0.029463) with: {'batch_size': 5, 'init': 'glorot_uniform', 'nb_epoch': 50, 'optimizer': 'rmsprop'}\n",
      "0.678385 (0.007366) with: {'batch_size': 5, 'init': 'glorot_uniform', 'nb_epoch': 50, 'optimizer': 'adam'}\n",
      "0.674479 (0.011201) with: {'batch_size': 5, 'init': 'glorot_uniform', 'nb_epoch': 100, 'optimizer': 'rmsprop'}\n",
      "0.687500 (0.016573) with: {'batch_size': 5, 'init': 'glorot_uniform', 'nb_epoch': 100, 'optimizer': 'adam'}\n",
      "0.671875 (0.039836) with: {'batch_size': 5, 'init': 'glorot_uniform', 'nb_epoch': 150, 'optimizer': 'rmsprop'}\n",
      "0.664063 (0.019137) with: {'batch_size': 5, 'init': 'glorot_uniform', 'nb_epoch': 150, 'optimizer': 'adam'}\n",
      "0.677083 (0.006639) with: {'batch_size': 5, 'init': 'normal', 'nb_epoch': 50, 'optimizer': 'rmsprop'}\n",
      "0.675781 (0.003189) with: {'batch_size': 5, 'init': 'normal', 'nb_epoch': 50, 'optimizer': 'adam'}\n",
      "0.680990 (0.017566) with: {'batch_size': 5, 'init': 'normal', 'nb_epoch': 100, 'optimizer': 'rmsprop'}\n",
      "0.670573 (0.009207) with: {'batch_size': 5, 'init': 'normal', 'nb_epoch': 100, 'optimizer': 'adam'}\n",
      "0.644531 (0.019401) with: {'batch_size': 5, 'init': 'normal', 'nb_epoch': 150, 'optimizer': 'rmsprop'}\n",
      "0.677083 (0.013279) with: {'batch_size': 5, 'init': 'normal', 'nb_epoch': 150, 'optimizer': 'adam'}\n",
      "0.673177 (0.001841) with: {'batch_size': 5, 'init': 'uniform', 'nb_epoch': 50, 'optimizer': 'rmsprop'}\n",
      "0.674479 (0.011201) with: {'batch_size': 5, 'init': 'uniform', 'nb_epoch': 50, 'optimizer': 'adam'}\n",
      "0.667969 (0.017758) with: {'batch_size': 5, 'init': 'uniform', 'nb_epoch': 100, 'optimizer': 'rmsprop'}\n",
      "0.657552 (0.028587) with: {'batch_size': 5, 'init': 'uniform', 'nb_epoch': 100, 'optimizer': 'adam'}\n",
      "0.667969 (0.006379) with: {'batch_size': 5, 'init': 'uniform', 'nb_epoch': 150, 'optimizer': 'rmsprop'}\n",
      "0.677083 (0.033804) with: {'batch_size': 5, 'init': 'uniform', 'nb_epoch': 150, 'optimizer': 'adam'}\n",
      "0.651042 (0.023939) with: {'batch_size': 10, 'init': 'glorot_uniform', 'nb_epoch': 50, 'optimizer': 'rmsprop'}\n",
      "0.660156 (0.030758) with: {'batch_size': 10, 'init': 'glorot_uniform', 'nb_epoch': 50, 'optimizer': 'adam'}\n",
      "0.657552 (0.028587) with: {'batch_size': 10, 'init': 'glorot_uniform', 'nb_epoch': 100, 'optimizer': 'rmsprop'}\n",
      "0.666667 (0.033804) with: {'batch_size': 10, 'init': 'glorot_uniform', 'nb_epoch': 100, 'optimizer': 'adam'}\n",
      "0.654948 (0.026748) with: {'batch_size': 10, 'init': 'glorot_uniform', 'nb_epoch': 150, 'optimizer': 'rmsprop'}\n",
      "0.686198 (0.018688) with: {'batch_size': 10, 'init': 'glorot_uniform', 'nb_epoch': 150, 'optimizer': 'adam'}\n",
      "0.661458 (0.009744) with: {'batch_size': 10, 'init': 'normal', 'nb_epoch': 50, 'optimizer': 'rmsprop'}\n",
      "0.680990 (0.003683) with: {'batch_size': 10, 'init': 'normal', 'nb_epoch': 50, 'optimizer': 'adam'}\n",
      "0.657552 (0.028587) with: {'batch_size': 10, 'init': 'normal', 'nb_epoch': 100, 'optimizer': 'rmsprop'}\n",
      "0.669271 (0.033804) with: {'batch_size': 10, 'init': 'normal', 'nb_epoch': 100, 'optimizer': 'adam'}\n",
      "0.674479 (0.009207) with: {'batch_size': 10, 'init': 'normal', 'nb_epoch': 150, 'optimizer': 'rmsprop'}\n",
      "0.682292 (0.008027) with: {'batch_size': 10, 'init': 'normal', 'nb_epoch': 150, 'optimizer': 'adam'}\n",
      "0.686198 (0.019225) with: {'batch_size': 10, 'init': 'uniform', 'nb_epoch': 50, 'optimizer': 'rmsprop'}\n",
      "0.675781 (0.006379) with: {'batch_size': 10, 'init': 'uniform', 'nb_epoch': 50, 'optimizer': 'adam'}\n",
      "0.677083 (0.010253) with: {'batch_size': 10, 'init': 'uniform', 'nb_epoch': 100, 'optimizer': 'rmsprop'}\n",
      "0.677083 (0.018688) with: {'batch_size': 10, 'init': 'uniform', 'nb_epoch': 100, 'optimizer': 'adam'}\n",
      "0.662760 (0.016367) with: {'batch_size': 10, 'init': 'uniform', 'nb_epoch': 150, 'optimizer': 'rmsprop'}\n",
      "0.669271 (0.008027) with: {'batch_size': 10, 'init': 'uniform', 'nb_epoch': 150, 'optimizer': 'adam'}\n",
      "0.660156 (0.027805) with: {'batch_size': 20, 'init': 'glorot_uniform', 'nb_epoch': 50, 'optimizer': 'rmsprop'}\n",
      "0.675781 (0.027805) with: {'batch_size': 20, 'init': 'glorot_uniform', 'nb_epoch': 50, 'optimizer': 'adam'}\n",
      "0.656250 (0.022326) with: {'batch_size': 20, 'init': 'glorot_uniform', 'nb_epoch': 100, 'optimizer': 'rmsprop'}\n",
      "0.656250 (0.027251) with: {'batch_size': 20, 'init': 'glorot_uniform', 'nb_epoch': 100, 'optimizer': 'adam'}\n",
      "0.654948 (0.024774) with: {'batch_size': 20, 'init': 'glorot_uniform', 'nb_epoch': 150, 'optimizer': 'rmsprop'}\n",
      "0.665365 (0.023073) with: {'batch_size': 20, 'init': 'glorot_uniform', 'nb_epoch': 150, 'optimizer': 'adam'}\n",
      "0.656250 (0.026107) with: {'batch_size': 20, 'init': 'normal', 'nb_epoch': 50, 'optimizer': 'rmsprop'}\n",
      "0.662760 (0.012890) with: {'batch_size': 20, 'init': 'normal', 'nb_epoch': 50, 'optimizer': 'adam'}\n",
      "0.657552 (0.004872) with: {'batch_size': 20, 'init': 'normal', 'nb_epoch': 100, 'optimizer': 'rmsprop'}\n",
      "0.665365 (0.034401) with: {'batch_size': 20, 'init': 'normal', 'nb_epoch': 100, 'optimizer': 'adam'}\n",
      "0.666667 (0.030314) with: {'batch_size': 20, 'init': 'normal', 'nb_epoch': 150, 'optimizer': 'rmsprop'}\n",
      "0.673177 (0.016367) with: {'batch_size': 20, 'init': 'normal', 'nb_epoch': 150, 'optimizer': 'adam'}\n",
      "0.674479 (0.004872) with: {'batch_size': 20, 'init': 'uniform', 'nb_epoch': 50, 'optimizer': 'rmsprop'}\n",
      "0.644531 (0.022326) with: {'batch_size': 20, 'init': 'uniform', 'nb_epoch': 50, 'optimizer': 'adam'}\n",
      "0.662760 (0.009744) with: {'batch_size': 20, 'init': 'uniform', 'nb_epoch': 100, 'optimizer': 'rmsprop'}\n",
      "0.660156 (0.033603) with: {'batch_size': 20, 'init': 'uniform', 'nb_epoch': 100, 'optimizer': 'adam'}\n",
      "0.656250 (0.024910) with: {'batch_size': 20, 'init': 'uniform', 'nb_epoch': 150, 'optimizer': 'rmsprop'}\n",
      "0.671875 (0.008438) with: {'batch_size': 20, 'init': 'uniform', 'nb_epoch': 150, 'optimizer': 'adam'}\n"
     ]
    }
   ],
   "source": [
    "# Function to create model, required for KerasClassifier\n",
    "def create_model(optimizer='rmsprop', init='glorot_uniform'):\n",
    "  # create model\n",
    "  model = Sequential()\n",
    "  model.add(Dense(12, input_dim=8, init='uniform', activation='relu'))\n",
    "  model.add(Dense(8, init='uniform', activation='relu'))\n",
    "  model.add(Dense(1, init='uniform', activation='sigmoid'))\n",
    "  # Compile model\n",
    "  model.compile(loss='binary_crossentropy', optimizer='adam', metrics=['accuracy'])\n",
    "  return model\n",
    "\n",
    "# fix random seed for reproducibility\n",
    "seed = 7\n",
    "numpy.random.seed(seed)\n",
    "# load pima indians dataset\n",
    "dataset = numpy.loadtxt(\"pima-indians-diabetes.csv\", delimiter=\",\")\n",
    "# split into input (X) and output (Y) variables\n",
    "X = dataset[:,0:8]\n",
    "Y = dataset[:,8]\n",
    "# create model\n",
    "model = KerasClassifier(build_fn=create_model, verbose=0)\n",
    "# grid search epochs, batch size and optimizer\n",
    "optimizers = ['rmsprop', 'adam']\n",
    "init = ['glorot_uniform', 'normal', 'uniform']\n",
    "epochs = [50, 100, 150]\n",
    "batches = [5, 10, 20]\n",
    "param_grid = dict(optimizer=optimizers, nb_epoch=epochs, batch_size=batches, init=init)\n",
    "grid = GridSearchCV(estimator=model, param_grid=param_grid)\n",
    "grid_result = grid.fit(X, Y)\n",
    "# summarize results\n",
    "print(\"Best: %f using %s\" % (grid_result.best_score_, grid_result.best_params_))\n",
    "means = grid_result.cv_results_['mean_test_score']\n",
    "stds = grid_result.cv_results_['std_test_score']\n",
    "params = grid_result.cv_results_['params']\n",
    "for mean, stdev, param in zip(means, stds, params):\n",
    "  print(\"%f (%f) with: %r\" % (mean, stdev, param))"
   ]
  },
  {
   "cell_type": "code",
   "execution_count": null,
   "metadata": {
    "collapsed": true
   },
   "outputs": [],
   "source": []
  },
  {
   "cell_type": "code",
   "execution_count": null,
   "metadata": {
    "collapsed": true
   },
   "outputs": [],
   "source": []
  }
 ],
 "metadata": {
  "kernelspec": {
   "display_name": "tensorflow",
   "language": "python",
   "name": "tensorflow"
  },
  "language_info": {
   "codemirror_mode": {
    "name": "ipython",
    "version": 3
   },
   "file_extension": ".py",
   "mimetype": "text/x-python",
   "name": "python",
   "nbconvert_exporter": "python",
   "pygments_lexer": "ipython3",
   "version": "3.6.0"
  }
 },
 "nbformat": 4,
 "nbformat_minor": 2
}
